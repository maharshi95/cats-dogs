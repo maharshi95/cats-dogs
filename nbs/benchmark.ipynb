{
 "cells": [
  {
   "cell_type": "code",
   "execution_count": null,
   "metadata": {},
   "outputs": [],
   "source": [
    "import os, multiprocessing, time\n",
    "import numpy as np\n",
    "from datetime import datetime as dt\n",
    "from scipy import misc\n",
    "from concurrent import futures\n",
    "\n",
    "pool = multiprocessing.Pool(processes=multiprocessing.cpu_count())"
   ]
  },
  {
   "cell_type": "code",
   "execution_count": 13,
   "metadata": {},
   "outputs": [
    {
     "name": "stdout",
     "output_type": "stream",
     "text": [
      "/Users/maharsg/PycharmProjects/CatsDocs/nbs\n"
     ]
    }
   ],
   "source": [
    "print(os.path.abspath('.'))\n",
    "train_data_path = '../data/train'\n",
    "test_data_path = '../data/test'\n",
    "\n",
    "X_train = []\n",
    "\n",
    "def foo(f):\n",
    "    return os.path.join(test_data_path, f)\n",
    "\n",
    "filenames = os.listdir(test_data_path)\n",
    "\n",
    "all_files = map(foo, filenames)\n",
    "\n",
    "dog_files = filter(lambda f: 'dog' in filename, all_files)\n",
    "\n",
    "cat_files = filter(lambda f: 'cat' in filename, all_files)\n",
    "\n",
    "all_files = list(all_files)"
   ]
  },
  {
   "cell_type": "code",
   "execution_count": null,
   "metadata": {},
   "outputs": [
    {
     "name": "stdout",
     "output_type": "stream",
     "text": [
      "0:00:49.396231\n",
      "0:01:37.118076\n"
     ]
    }
   ],
   "source": [
    "def get_shape(filepath):\n",
    "    img = misc.imread(filepath)\n",
    "    return img.shape\n",
    "\n",
    "tic = dt.now()\n",
    "\n",
    "with futures.ProcessPoolExecutor(max_workers=4) as executor:\n",
    "    futures_to_images = [executor.submit(misc.imread, filename) for filename in all_files]\n",
    "    images = [img.result() for img in futures.as_completed(futures_to_images)]\n",
    "\n",
    "delta = dt.now() - tic\n",
    "print(delta)\n",
    "\n",
    "tic = dt.now()\n",
    "images = list(map(misc.imread, all_files))\n",
    "delta = dt.now() - tic\n",
    "print(delta)\n",
    "\n",
    "tic = dt.now()\n",
    "images = pool.map(misc.imread, all_files)\n",
    "delta = dt.now() - tic\n",
    "print(delta)\n",
    "\n",
    "\n",
    "\n",
    "# shapes = map(lambda i:i.shape, images)\n",
    "# mu, sigma, min, max = np.mean(shapes, axis=0), np.std(shapes, axis=0), np.min(shapes, axis=0), np.max(shapes, axis=0)\n",
    "# print('mu:', mu)\n",
    "# print('sigma:', sigma)\n",
    "# print('min:', min)\n",
    "# print('max:', max)"
   ]
  },
  {
   "cell_type": "code",
   "execution_count": 64,
   "metadata": {},
   "outputs": [],
   "source": [
    "shapes = np.array(shapes)"
   ]
  },
  {
   "cell_type": "code",
   "execution_count": 65,
   "metadata": {},
   "outputs": [
    {
     "name": "stdout",
     "output_type": "stream",
     "text": [
      "0.949799532907\n",
      "0.279802671334\n",
      "0.505714285714\n",
      "1.96551724138\n"
     ]
    }
   ],
   "source": [
    "r = shapes[:,0] / shapes[:,1]\n",
    "print(np.mean(r))\n",
    "print(np.std(r))\n",
    "print(np.min(r))\n",
    "print(np.max(r))"
   ]
  },
  {
   "cell_type": "code",
   "execution_count": 66,
   "metadata": {},
   "outputs": [],
   "source": []
  }
 ],
 "metadata": {
  "kernelspec": {
   "display_name": "Python 3",
   "language": "python",
   "name": "python3"
  },
  "language_info": {
   "codemirror_mode": {
    "name": "ipython",
    "version": 3
   },
   "file_extension": ".py",
   "mimetype": "text/x-python",
   "name": "python",
   "nbconvert_exporter": "python",
   "pygments_lexer": "ipython3",
   "version": "3.6.2"
  }
 },
 "nbformat": 4,
 "nbformat_minor": 1
}
