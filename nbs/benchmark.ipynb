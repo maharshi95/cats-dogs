{
 "cells": [
  {
   "cell_type": "code",
   "execution_count": 7,
   "metadata": {},
   "outputs": [],
   "source": [
    "import os, multiprocessing, time, random\n",
    "import numpy as np\n",
    "\n",
    "from scipy import misc\n",
    "from concurrent import futures\n",
    "\n",
    "from datetime import datetime as dt\n",
    "from matplotlib import pyplot as pp\n",
    "\n",
    "pool = multiprocessing.Pool(processes=multiprocessing.cpu_count())"
   ]
  },
  {
   "cell_type": "code",
   "execution_count": 8,
   "metadata": {},
   "outputs": [],
   "source": [
    "train_data_path = '../data/train'\n",
    "test_data_path = '../data/test'\n",
    "\n",
    "input_img_size = (256, 256)\n",
    "sl = 1.2"
   ]
  },
  {
   "cell_type": "code",
   "execution_count": 9,
   "metadata": {},
   "outputs": [],
   "source": [
    "def img_resize_and_crop(img, output_size = input_img_size):\n",
    "    img_x, img_y, img_z = img.shape\n",
    "    \n",
    "    crop_x, crop_y = output_size\n",
    "    \n",
    "    img_f, crop_f = img_y / img_x, crop_y / crop_x\n",
    "    \n",
    "    trgt_f = max(min(crop_f, img_f * sl), img_f / sl)\n",
    "    \n",
    "    trgt_x, trgt_y = int(max(crop_x, crop_y / trgt_f)), int(max(crop_y, crop_x * trgt_f))\n",
    "    \n",
    "    img = misc.imresize(img, (trgt_x, trgt_y))\n",
    "    \n",
    "    start_x, end_x = (trgt_x - crop_x) // 2, (trgt_x + crop_x) // 2\n",
    "    start_y, end_y = (trgt_y - crop_y) // 2, (trgt_y + crop_y) // 2\n",
    "    \n",
    "    return img[start_x:end_x, start_y:end_y,:]\n",
    "    "
   ]
  },
  {
   "cell_type": "code",
   "execution_count": 10,
   "metadata": {},
   "outputs": [],
   "source": [
    "def test_img_resize_and_crop():\n",
    "    img = images[1343]\n",
    "    pp.imshow(img)\n",
    "    pp.show()\n",
    "    img = img_resize_and_crop(img, input_img_size)\n",
    "    pp.imshow(img)\n",
    "    pp.show()\n",
    "    \n",
    "# test_img_resize_and_crop()"
   ]
  },
  {
   "cell_type": "code",
   "execution_count": 23,
   "metadata": {},
   "outputs": [
    {
     "name": "stdout",
     "output_type": "stream",
     "text": [
      "Time to read dogs and cats: 0:00:01.252508\n"
     ]
    }
   ],
   "source": [
    "def get_full_path(image_name):\n",
    "    return os.path.join(train_data_path, image_name)\n",
    "\n",
    "def get_scaled_image_from_file(filepath):\n",
    "    img = misc.imread(filepath)\n",
    "    return img_resize_and_crop(img)\n",
    "\n",
    "def get_images_from_files(filepaths):\n",
    "    with futures.ProcessPoolExecutor(max_workers=4) as executor:\n",
    "        futures_to_images = [executor.submit(get_scaled_image_from_file, filepath) for filepath in filepaths]\n",
    "        completed_images = futures.as_completed(futures_to_images)\n",
    "        images = list(map(lambda img: img.result(), completed_images))\n",
    "\n",
    "    return images\n",
    "\n",
    "def get_X_Y(dir_path):\n",
    "    filenames = os.listdir(dir_path)\n",
    "    filepaths = list(map(get_full_path, filenames))\n",
    "    \n",
    "    n_examples = len(filepaths)\n",
    "    \n",
    "    dog_files = list(filter(lambda f: 'dog' in f, filepaths))\n",
    "    cat_files = list(filter(lambda f: 'cat' in f, filepaths))\n",
    "    \n",
    "    tic = dt.now()\n",
    "    \n",
    "    dog_images = get_images_from_files(dog_files)\n",
    "    cat_images = get_images_from_files(cat_files)\n",
    "    \n",
    "    tac = dt.now()\n",
    "    \n",
    "    print(\"Time to read dogs and cats:\", tac - tic)\n",
    "    \n",
    "    X = dog_images + cat_images\n",
    "    Y = [1] * len(dog_images) + [0] * len(cat_images)\n",
    "    \n",
    "#     rand_perm = np.arange(n_examples, dtype=np.uint16)\n",
    "#     np.random.shuffle(rand_perm)\n",
    "#     print(rand_perm, rand_perm.dtype)\n",
    "#     X = X[rand_perm]\n",
    "#     Y = Y[rand_perm]\n",
    "    \n",
    "    return X, Y\n",
    "\n",
    "def read_data_sets():\n",
    "    train_files = os.listdir(train_data_path)\n",
    "\n",
    "    test_files = os.listdir(test_data_path)\n",
    "\n",
    "    all_train_files = list(map(get_full_path, train_files))\n",
    "\n",
    "    all_test_files = list(map(get_full_path, test_files))\n",
    "    \n",
    "    X, Y = get_X_Y(train_data_path)\n",
    "    \n",
    "read_data_sets()"
   ]
  },
  {
   "cell_type": "code",
   "execution_count": null,
   "metadata": {},
   "outputs": [],
   "source": []
  },
  {
   "cell_type": "code",
   "execution_count": 101,
   "metadata": {},
   "outputs": [
    {
     "name": "stdout",
     "output_type": "stream",
     "text": [
      "[3, 8, 6, 1, 5, 0, 2, 4, 9, 7]\n"
     ]
    }
   ],
   "source": [
    "r = list(range(10))\n",
    "random.shuffle(r)\n",
    "print(r)"
   ]
  },
  {
   "cell_type": "code",
   "execution_count": 92,
   "metadata": {},
   "outputs": [
    {
     "ename": "NameError",
     "evalue": "name 'shapes' is not defined",
     "traceback": [
      "\u001b[0;31m---------------------------------------------------------------------------\u001b[0m",
      "\u001b[0;31mNameError\u001b[0m                                 Traceback (most recent call last)",
      "\u001b[0;32m<ipython-input-92-2345e70f745d>\u001b[0m in \u001b[0;36m<module>\u001b[0;34m()\u001b[0m\n\u001b[0;32m----> 1\u001b[0;31m \u001b[0mshapes\u001b[0m \u001b[0;34m=\u001b[0m \u001b[0mnp\u001b[0m\u001b[0;34m.\u001b[0m\u001b[0marray\u001b[0m\u001b[0;34m(\u001b[0m\u001b[0mshapes\u001b[0m\u001b[0;34m)\u001b[0m\u001b[0;34m\u001b[0m\u001b[0m\n\u001b[0m",
      "\u001b[0;31mNameError\u001b[0m: name 'shapes' is not defined"
     ],
     "output_type": "error"
    }
   ],
   "source": [
    "shapes = np.array(shapes)"
   ]
  },
  {
   "cell_type": "code",
   "execution_count": null,
   "metadata": {},
   "outputs": [],
   "source": []
  }
 ],
 "metadata": {
  "kernelspec": {
   "display_name": "Python 3",
   "language": "python",
   "name": "python3"
  },
  "language_info": {
   "codemirror_mode": {
    "name": "ipython",
    "version": 3
   },
   "file_extension": ".py",
   "mimetype": "text/x-python",
   "name": "python",
   "nbconvert_exporter": "python",
   "pygments_lexer": "ipython3",
   "version": "3.6.2"
  }
 },
 "nbformat": 4,
 "nbformat_minor": 1
}
